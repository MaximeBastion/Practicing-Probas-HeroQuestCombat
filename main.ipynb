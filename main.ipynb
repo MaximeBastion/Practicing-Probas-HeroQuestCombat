{
 "cells": [
  {
   "cell_type": "markdown",
   "metadata": {},
   "source": [
    "# Hero Quest: Combat Probabilities\n",
    "In this Exercise I will compute the probabilities for each outcome when a character in the board game \"Hero: Quest\" fights a monster.\n",
    "### Combat System\n",
    "When a character attacks a monster, he rolls a six-sided dice, where s is its strenght value, then counts the number of skulls rolled.\n",
    "The monster then rolls d dice, where d is its defence value. Each black shield rolled blocks one skull.\n",
    "The monster then looses a body point for each unblocked skull.\n",
    "It dies when it has no body points.\n",
    "\n",
    "### Theory\n",
    "* Rolling n dice, what is the probability of getting k hits, with s being the probability of rolling a skull per dice?\n",
    "\n",
    "For this question, a dice outcome can be seen as either a skull or not a skull.\n",
    "The probability of rolling a skull stays the same, so this is a Bernoulli trial B(n, s).\n",
    "$$P(k) = \\begin{pmatrix}n \\\\ k\\end{pmatrix}p^k(1-p)^{n-k}$$\n",
    "$$P(k) = \\frac{n!}{k!(n-k)!}p^k(1-p)^{n-k}$$"
   ]
  },
  {
   "cell_type": "markdown",
   "metadata": {},
   "source": [
    "$$P(h hits) = s^h * (1-s)^^(n-h)$$"
   ]
  },
  {
   "cell_type": "code",
   "execution_count": 35,
   "metadata": {},
   "outputs": [
    {
     "data": {
      "text/plain": [
       "{0: 0.11458333333333334, 1: 0.11805555555555557, 2: 0.034722222222222224}"
      ]
     },
     "execution_count": 35,
     "metadata": {},
     "output_type": "execute_result"
    }
   ],
   "source": [
    "#constants to describe a die\n",
    "d_size = 6\n",
    "d_skulls = 3\n",
    "d_white_shield = 2\n",
    "d_black_shields = 1\n",
    "\n",
    "#constants to describe the character\n",
    "hero_strength = 3\n",
    "\n",
    "# values to aplly our formulas\n",
    "s = d_skulls / d_size\n",
    "monster_shield_p = d_black_shields / d_size\n",
    "\n",
    "def factorial(n):\n",
    "    return 1 if n <= 1 else n * factorial(n - 1)\n",
    "\n",
    "def bernoulli(k, n, p):\n",
    "    n_choose_k = factorial(n) / (factorial(k) * factorial(int(n-k)))\n",
    "    return n_choose_k * p**k * (1-p)**(n-k)\n",
    "\n",
    "def compute_hero_attacks_probas(hero_strength, s):\n",
    "    # associates the number of skulls rolled to its proba\n",
    "    skulls_probas = {}\n",
    "    for skulls_wanted in range(1, hero_strength + 1):\n",
    "        skulls_probas[skulls_wanted] = bernoulli(skulls_wanted, hero_strength, s)    \n",
    "    return skulls_probas\n",
    "\n",
    "def compute_shield_probas(monster_defense, black_shield_proba):\n",
    "    # assiciates a number of shield rolled to the proba that it occurs\n",
    "    # monster_defense it the monster's number of dice to defend\n",
    "    shield_probas = {}\n",
    "    for shields in range(1, monster_defense + 1):\n",
    "        shield_probas[shields] = bernoulli(shields, monster_defense, black_shield_proba)\n",
    "    return shield_probas\n",
    "\n",
    "def compute_damage_probas(skulls_probas, shield_probas):\n",
    "    damage_probas = {}\n",
    "    for skulls, sk_proba in skulls_probas.items():\n",
    "        for shields, sh_proba in shield_probas.items():\n",
    "            proba_of_this_intersection = sk_proba * sh_proba\n",
    "            damage_dealt = abs(skulls - shields)\n",
    "            if damage_dealt in damage_probas:\n",
    "                 damage_probas[damage_dealt] += proba_of_this_intersection\n",
    "            else:\n",
    "                damage_probas[damage_dealt] = proba_of_this_intersection\n",
    "    return damage_probas\n",
    "        \n",
    "compute_damage_probas(compute_hero_attacks_probas(3, s), compute_shield_probas(2, monster_shield_p))"
   ]
  }
 ],
 "metadata": {
  "kernelspec": {
   "display_name": "Python 3",
   "language": "python",
   "name": "python3"
  },
  "language_info": {
   "codemirror_mode": {
    "name": "ipython",
    "version": 3
   },
   "file_extension": ".py",
   "mimetype": "text/x-python",
   "name": "python",
   "nbconvert_exporter": "python",
   "pygments_lexer": "ipython3",
   "version": "3.7.4"
  }
 },
 "nbformat": 4,
 "nbformat_minor": 2
}
